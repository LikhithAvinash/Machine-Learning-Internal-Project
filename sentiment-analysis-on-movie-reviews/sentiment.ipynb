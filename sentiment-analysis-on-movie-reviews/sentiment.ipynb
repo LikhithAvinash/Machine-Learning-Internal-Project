{
 "cells": [
  {
   "cell_type": "code",
   "execution_count": 1,
   "id": "ef7a3a05",
   "metadata": {},
   "outputs": [],
   "source": [
    "import pandas as pd"
   ]
  },
  {
   "cell_type": "code",
   "execution_count": 2,
   "id": "343a8d65",
   "metadata": {},
   "outputs": [
    {
     "data": {
      "text/html": [
       "<div>\n",
       "<style scoped>\n",
       "    .dataframe tbody tr th:only-of-type {\n",
       "        vertical-align: middle;\n",
       "    }\n",
       "\n",
       "    .dataframe tbody tr th {\n",
       "        vertical-align: top;\n",
       "    }\n",
       "\n",
       "    .dataframe thead th {\n",
       "        text-align: right;\n",
       "    }\n",
       "</style>\n",
       "<table border=\"1\" class=\"dataframe\">\n",
       "  <thead>\n",
       "    <tr style=\"text-align: right;\">\n",
       "      <th></th>\n",
       "      <th>PhraseId</th>\n",
       "      <th>SentenceId</th>\n",
       "      <th>Phrase</th>\n",
       "      <th>Sentiment</th>\n",
       "    </tr>\n",
       "  </thead>\n",
       "  <tbody>\n",
       "    <tr>\n",
       "      <th>0</th>\n",
       "      <td>1</td>\n",
       "      <td>1</td>\n",
       "      <td>A series of escapades demonstrating the adage ...</td>\n",
       "      <td>1</td>\n",
       "    </tr>\n",
       "    <tr>\n",
       "      <th>1</th>\n",
       "      <td>2</td>\n",
       "      <td>1</td>\n",
       "      <td>A series of escapades demonstrating the adage ...</td>\n",
       "      <td>2</td>\n",
       "    </tr>\n",
       "    <tr>\n",
       "      <th>2</th>\n",
       "      <td>3</td>\n",
       "      <td>1</td>\n",
       "      <td>A series</td>\n",
       "      <td>2</td>\n",
       "    </tr>\n",
       "    <tr>\n",
       "      <th>3</th>\n",
       "      <td>4</td>\n",
       "      <td>1</td>\n",
       "      <td>A</td>\n",
       "      <td>2</td>\n",
       "    </tr>\n",
       "    <tr>\n",
       "      <th>4</th>\n",
       "      <td>5</td>\n",
       "      <td>1</td>\n",
       "      <td>series</td>\n",
       "      <td>2</td>\n",
       "    </tr>\n",
       "  </tbody>\n",
       "</table>\n",
       "</div>"
      ],
      "text/plain": [
       "   PhraseId  SentenceId                                             Phrase  \\\n",
       "0         1           1  A series of escapades demonstrating the adage ...   \n",
       "1         2           1  A series of escapades demonstrating the adage ...   \n",
       "2         3           1                                           A series   \n",
       "3         4           1                                                  A   \n",
       "4         5           1                                             series   \n",
       "\n",
       "   Sentiment  \n",
       "0          1  \n",
       "1          2  \n",
       "2          2  \n",
       "3          2  \n",
       "4          2  "
      ]
     },
     "execution_count": 2,
     "metadata": {},
     "output_type": "execute_result"
    }
   ],
   "source": [
    "# Replace 'your_file.tsv' with the actual path to your file\n",
    "df = pd.read_csv('train.tsv', sep='\\t')\n",
    "df.head()"
   ]
  },
  {
   "cell_type": "code",
   "execution_count": 6,
   "id": "506543dd",
   "metadata": {},
   "outputs": [
    {
     "data": {
      "text/plain": [
       "(156060, 4)"
      ]
     },
     "execution_count": 6,
     "metadata": {},
     "output_type": "execute_result"
    }
   ],
   "source": [
    "df.shape"
   ]
  },
  {
   "cell_type": "code",
   "execution_count": 7,
   "id": "7fc0ee9d",
   "metadata": {},
   "outputs": [
    {
     "data": {
      "text/plain": [
       "np.False_"
      ]
     },
     "execution_count": 7,
     "metadata": {},
     "output_type": "execute_result"
    }
   ],
   "source": [
    "df.isnull().values.any()"
   ]
  },
  {
   "cell_type": "code",
   "execution_count": 9,
   "id": "179ccf32",
   "metadata": {},
   "outputs": [
    {
     "data": {
      "text/plain": [
       "np.False_"
      ]
     },
     "execution_count": 9,
     "metadata": {},
     "output_type": "execute_result"
    }
   ],
   "source": [
    "df.duplicated().values.any()"
   ]
  },
  {
   "cell_type": "code",
   "execution_count": 11,
   "id": "3091e21f",
   "metadata": {},
   "outputs": [],
   "source": [
    "import pandas as pd\n",
    "from sklearn.model_selection import train_test_split\n",
    "from sklearn.feature_extraction.text import TfidfVectorizer\n",
    "from sklearn.linear_model import LogisticRegression\n",
    "from sklearn.metrics import accuracy_score"
   ]
  },
  {
   "cell_type": "code",
   "execution_count": 13,
   "id": "377adbc6",
   "metadata": {},
   "outputs": [
    {
     "name": "stdout",
     "output_type": "stream",
     "text": [
      "Data split into 124848 training samples and 31212 testing samples.\n",
      "\n"
     ]
    }
   ],
   "source": [
    "# --- 2. Prepare the Data ---\n",
    "# Define the features (X) and the target (y)\n",
    "# We want to predict 'Sentiment' based on the 'Phrase'\n",
    "X = df['Phrase']\n",
    "y = df['Sentiment']\n",
    "\n",
    "# Split the data into training (80%) and testing (20%) sets\n",
    "X_train, X_test, y_train, y_test = train_test_split(\n",
    "    X, y, test_size=0.2, random_state=42, stratify=y\n",
    ")\n",
    "\n",
    "print(f\"Data split into {len(X_train)} training samples and {len(X_test)} testing samples.\\n\")"
   ]
  },
  {
   "cell_type": "code",
   "execution_count": 15,
   "id": "491d48c9",
   "metadata": {},
   "outputs": [
    {
     "name": "stdout",
     "output_type": "stream",
     "text": [
      "Vectorizing text data...\n",
      "Vectorization complete.\n",
      "\n"
     ]
    }
   ],
   "source": [
    "# --- 3. Vectorize the Text ---\n",
    "# Convert the text phrases into numerical data using TF-IDF\n",
    "# This technique reflects how important a word is to a document in a collection.\n",
    "print(\"Vectorizing text data...\")\n",
    "vectorizer = TfidfVectorizer(ngram_range=(1, 2), max_features=156060)\n",
    "\n",
    "# Fit the vectorizer on the training data and transform both training and test data\n",
    "X_train_vec = vectorizer.fit_transform(X_train)\n",
    "X_test_vec = vectorizer.transform(X_test)\n",
    "print(\"Vectorization complete.\\n\")"
   ]
  },
  {
   "cell_type": "markdown",
   "id": "da1e263f",
   "metadata": {},
   "source": [
    "### Training on Logistic Model"
   ]
  },
  {
   "cell_type": "code",
   "execution_count": 16,
   "id": "d6d43789",
   "metadata": {},
   "outputs": [
    {
     "name": "stdout",
     "output_type": "stream",
     "text": [
      "Training the Logistic Regression model...\n"
     ]
    },
    {
     "name": "stderr",
     "output_type": "stream",
     "text": [
      "/home/user/ml_env/lib/python3.12/site-packages/sklearn/linear_model/_logistic.py:1296: FutureWarning: Using the 'liblinear' solver for multiclass classification is deprecated. An error will be raised in 1.8. Either use another solver which supports the multinomial loss or wrap the estimator in a OneVsRestClassifier to keep applying a one-versus-rest scheme.\n",
      "  warnings.warn(\n"
     ]
    },
    {
     "name": "stdout",
     "output_type": "stream",
     "text": [
      "Model training complete.\n",
      "\n"
     ]
    }
   ],
   "source": [
    "# --- 4. Train the Classification Model ---\n",
    "# We will use Logistic Regression, a robust and interpretable model.\n",
    "print(\"Training the Logistic Regression model...\")\n",
    "model = LogisticRegression(solver='liblinear', random_state=42)\n",
    "model.fit(X_train_vec, y_train)\n",
    "print(\"Model training complete.\\n\")"
   ]
  },
  {
   "cell_type": "markdown",
   "id": "8408632a",
   "metadata": {},
   "source": [
    "### Training on Linear Support Vector Classifier (LinearSVC)"
   ]
  },
  {
   "cell_type": "code",
   "execution_count": 26,
   "id": "f003523b",
   "metadata": {},
   "outputs": [
    {
     "name": "stdout",
     "output_type": "stream",
     "text": [
      "Training the LinearSVC model...\n",
      "Model training complete.\n",
      "\n"
     ]
    }
   ],
   "source": [
    "# --- 4. Train the Classification Model ---\n",
    "from sklearn.svm import LinearSVC\n",
    "\n",
    "print(\"Training the LinearSVC model...\")\n",
    "# LinearSVC is often a very strong baseline for text classification\n",
    "model = LinearSVC(random_state=42, dual=False) # dual=False is recommended when n_samples > n_features\n",
    "model.fit(X_train_vec, y_train)\n",
    "print(\"Model training complete.\\n\")"
   ]
  },
  {
   "cell_type": "markdown",
   "id": "1422a41a",
   "metadata": {},
   "source": [
    "### Training on Multinomial Naive Bayes mode"
   ]
  },
  {
   "cell_type": "code",
   "execution_count": 19,
   "id": "8db3ad16",
   "metadata": {},
   "outputs": [
    {
     "name": "stdout",
     "output_type": "stream",
     "text": [
      "Training the Multinomial Naive Bayes model...\n",
      "Model training complete.\n",
      "\n"
     ]
    }
   ],
   "source": [
    "# --- 4. Train the Classification Model ---\n",
    "from sklearn.naive_bayes import MultinomialNB\n",
    "\n",
    "print(\"Training the Multinomial Naive Bayes model...\")\n",
    "# This model is a classic and effective choice for text data\n",
    "model = MultinomialNB()\n",
    "model.fit(X_train_vec, y_train)\n",
    "print(\"Model training complete.\\n\")"
   ]
  },
  {
   "cell_type": "markdown",
   "id": "bd2cc161",
   "metadata": {},
   "source": [
    "### Training on Random Forst Classifier"
   ]
  },
  {
   "cell_type": "code",
   "execution_count": 23,
   "id": "75909b06",
   "metadata": {},
   "outputs": [
    {
     "name": "stdout",
     "output_type": "stream",
     "text": [
      "Training the Random Forest model...\n",
      "Model training complete.\n",
      "\n"
     ]
    }
   ],
   "source": [
    "# --- 4. Train the Classification Model ---\n",
    "from sklearn.ensemble import RandomForestClassifier\n",
    "\n",
    "print(\"Training the Random Forest model...\")\n",
    "# This model combines multiple decision trees to improve accuracy\n",
    "model = RandomForestClassifier(n_estimators=100, random_state=42, n_jobs=-1)\n",
    "model.fit(X_train_vec, y_train)\n",
    "print(\"Model training complete.\\n\")"
   ]
  },
  {
   "cell_type": "markdown",
   "id": "a4375cee",
   "metadata": {},
   "source": [
    "### Evalue Logistic"
   ]
  },
  {
   "cell_type": "code",
   "execution_count": 17,
   "id": "2bd3a115",
   "metadata": {},
   "outputs": [
    {
     "name": "stdout",
     "output_type": "stream",
     "text": [
      "==================================================\n",
      "✅ Model Accuracy on the Test Set: 0.6335\n",
      "==================================================\n",
      "\n"
     ]
    }
   ],
   "source": [
    "# --- 5. Evaluate the Model ---\n",
    "# Make predictions on the unseen test data\n",
    "y_pred = model.predict(X_test_vec)\n",
    "\n",
    "# Calculate the accuracy of the model\n",
    "accuracy = accuracy_score(y_test, y_pred)\n",
    "print(\"=\"*50)\n",
    "print(f\"✅ Model Accuracy on the Test Set: {accuracy:.4f}\")\n",
    "print(\"=\"*50 + \"\\n\")"
   ]
  },
  {
   "cell_type": "markdown",
   "id": "337fb3e1",
   "metadata": {},
   "source": [
    "### Evaluate LinearSVC"
   ]
  },
  {
   "cell_type": "code",
   "execution_count": 27,
   "id": "969c259e",
   "metadata": {},
   "outputs": [
    {
     "name": "stdout",
     "output_type": "stream",
     "text": [
      "==================================================\n",
      "✅ LinearSVC Model Accuracy: 0.6572\n",
      "==================================================\n",
      "\n"
     ]
    }
   ],
   "source": [
    "# --- 5. Evaluate the Model ---\n",
    "y_pred = model.predict(X_test_vec)\n",
    "accuracy = accuracy_score(y_test, y_pred)\n",
    "print(\"=\"*50)\n",
    "print(f\"✅ LinearSVC Model Accuracy: {accuracy:.4f}\")\n",
    "print(\"=\"*50 + \"\\n\")"
   ]
  },
  {
   "cell_type": "markdown",
   "id": "41968cb9",
   "metadata": {},
   "source": [
    "### Evaluate Multinomial Naive Bayes mode"
   ]
  },
  {
   "cell_type": "code",
   "execution_count": 20,
   "id": "6cebec82",
   "metadata": {},
   "outputs": [
    {
     "name": "stdout",
     "output_type": "stream",
     "text": [
      "==================================================\n",
      "✅ MultinomialNB Model Accuracy: 0.6177\n",
      "==================================================\n",
      "\n"
     ]
    }
   ],
   "source": [
    "# --- 5. Evaluate the Model ---\n",
    "y_pred = model.predict(X_test_vec)\n",
    "accuracy = accuracy_score(y_test, y_pred)\n",
    "print(\"=\"*50)\n",
    "print(f\"✅ MultinomialNB Model Accuracy: {accuracy:.4f}\")\n",
    "print(\"=\"*50 + \"\\n\")"
   ]
  },
  {
   "cell_type": "markdown",
   "id": "06d87e1b",
   "metadata": {},
   "source": [
    "### Evaluate Random Forest"
   ]
  },
  {
   "cell_type": "code",
   "execution_count": 24,
   "id": "d2e21466",
   "metadata": {},
   "outputs": [
    {
     "name": "stdout",
     "output_type": "stream",
     "text": [
      "==================================================\n",
      "✅ RandomForest Model Accuracy: 0.6410\n",
      "==================================================\n",
      "\n"
     ]
    }
   ],
   "source": [
    "# --- 5. Evaluate the Model ---\n",
    "y_pred = model.predict(X_test_vec)\n",
    "accuracy = accuracy_score(y_test, y_pred)\n",
    "print(\"=\"*50)\n",
    "print(f\"✅ RandomForest Model Accuracy: {accuracy:.4f}\")\n",
    "print(\"=\"*50 + \"\\n\")"
   ]
  },
  {
   "cell_type": "code",
   "execution_count": 25,
   "id": "89151dc1",
   "metadata": {},
   "outputs": [
    {
     "name": "stdout",
     "output_type": "stream",
     "text": [
      "Example prediction for a new phrase:\n",
      "Phrase: 'This movie is fantastic and amazing!'\n",
      "Predicted Sentiment: 1\n"
     ]
    }
   ],
   "source": [
    "# --- 6. Example Prediction ---\n",
    "# You can now use the trained model to classify new phrases\n",
    "new_phrase = [\"This movie is fantastic and amazing!\"]\n",
    "new_phrase_vec = vectorizer.transform(new_phrase)\n",
    "prediction = model.predict(new_phrase_vec)\n",
    "\n",
    "print(\"Example prediction for a new phrase:\")\n",
    "print(f\"Phrase: '{new_phrase[0]}'\")\n",
    "print(f\"Predicted Sentiment: {prediction[0]}\")"
   ]
  },
  {
   "cell_type": "code",
   "execution_count": 35,
   "id": "c6f6bc17",
   "metadata": {},
   "outputs": [
    {
     "name": "stdout",
     "output_type": "stream",
     "text": [
      "Loading train.tsv and test.tsv...\n",
      "✅ Data loaded successfully.\n",
      "\n",
      "Training vectorizer on the FULL training dataset...\n",
      "✅ Vectorization complete.\n",
      "\n",
      "Training the LinearSVC model on the FULL training dataset...\n",
      "✅ Model training complete.\n",
      "\n",
      "Making predictions on the test data...\n",
      "✅ Predictions are ready.\n",
      "\n",
      "==================================================\n",
      "🚀 All done! The file 'submission.csv' has been created.\n",
      "Here is a preview:\n",
      "   PhraseId  Sentiment\n",
      "0    156061          3\n",
      "1    156062          3\n",
      "2    156063          3\n",
      "3    156064          2\n",
      "4    156065          2\n",
      "==================================================\n"
     ]
    }
   ],
   "source": [
    "import pandas as pd\n",
    "from sklearn.feature_extraction.text import TfidfVectorizer\n",
    "from sklearn.svm import LinearSVC\n",
    "\n",
    "# This self-contained script trains the final model on all data and generates the submission file.\n",
    "\n",
    "try:\n",
    "    # --- 1. Load Both Datasets ---\n",
    "    print(\"Loading train.tsv and test.tsv...\")\n",
    "    train_df = pd.read_csv('train.tsv', sep='\\t')\n",
    "    test_df = pd.read_csv('test.tsv', sep='\\t')\n",
    "    print(\"✅ Data loaded successfully.\")\n",
    "\n",
    "    # --- 2. Prepare and Vectorize Data ---\n",
    "    print(\"\\nTraining vectorizer on the FULL training dataset...\")\n",
    "    # Get the phrases and sentiments from the full training data\n",
    "    X_train_full = train_df['Phrase']\n",
    "    y_train_full = train_df['Sentiment']\n",
    "    \n",
    "    # Clean the test data phrases (this was a good fix from before)\n",
    "    test_phrases = test_df['Phrase'].fillna('')\n",
    "    \n",
    "    # Initialize the vectorizer\n",
    "    vectorizer = TfidfVectorizer(ngram_range=(1, 2), max_features=156060)\n",
    "    \n",
    "    # Fit the vectorizer on the full training data and transform it\n",
    "    X_train_full_vec = vectorizer.fit_transform(X_train_full)\n",
    "    \n",
    "    # Use the SAME fitted vectorizer to transform the test data\n",
    "    # This ensures the number of features will match perfectly.\n",
    "    test_phrases_vec = vectorizer.transform(test_phrases)\n",
    "    print(\"✅ Vectorization complete.\")\n",
    "\n",
    "    # --- 3. Train the Final Model ---\n",
    "    print(\"\\nTraining the LinearSVC model on the FULL training dataset...\")\n",
    "    model = LinearSVC(random_state=42, dual=False)\n",
    "    model.fit(X_train_full_vec, y_train_full)\n",
    "    print(\"✅ Model training complete.\")\n",
    "\n",
    "    # --- 4. Make Final Predictions ---\n",
    "    print(\"\\nMaking predictions on the test data...\")\n",
    "    test_predictions = model.predict(test_phrases_vec)\n",
    "    print(\"✅ Predictions are ready.\")\n",
    "\n",
    "    # --- 5. Create and Save Submission File ---\n",
    "    submission_df = pd.DataFrame({\n",
    "        'PhraseId': test_df['PhraseId'],\n",
    "        'Sentiment': test_predictions\n",
    "    })\n",
    "    submission_df.to_csv('submission.csv', index=False)\n",
    "    \n",
    "    print(\"\\n\" + \"=\"*50)\n",
    "    print(\"🚀 All done! The file 'submission.csv' has been created.\")\n",
    "    print(\"Here is a preview:\")\n",
    "    print(submission_df.head())\n",
    "    print(\"=\"*50)\n",
    "\n",
    "except FileNotFoundError as e:\n",
    "    print(f\"🛑 Error: A file was not found. Please ensure 'train.tsv' and 'test.tsv' are in the same directory.\")\n",
    "    print(f\"Details: {e}\")\n",
    "except Exception as e:\n",
    "    print(f\"An unexpected error occurred: {e}\")\n",
    "\n"
   ]
  },
  {
   "cell_type": "code",
   "execution_count": 3,
   "id": "e84dc93d",
   "metadata": {},
   "outputs": [
    {
     "data": {
      "image/png": "[encoded data removed]",
      "text/plain": [
       "<Figure size 1000x600 with 1 Axes>"
      ]
     },
     "metadata": {},
     "output_type": "display_data"
    }
   ],
   "source": [
    "import matplotlib.pyplot as plt\n",
    "\n",
    "models = ['Logistic Regression', 'LinearSVC', 'Multinomial Naive Bayes', 'Random Forest']\n",
    "accuracies = [0.6335, 0.6572, 0.6177, 0.6410]\n",
    "\n",
    "plt.figure(figsize=(10, 6))\n",
    "bars = plt.bar(models, accuracies, color=['blue', 'green', 'red', 'purple'])\n",
    "\n",
    "for bar in bars:\n",
    "    yval = bar.get_height()\n",
    "    plt.text(bar.get_x() + bar.get_width()/2.0, yval, f'{yval:.4f}', va='bottom')\n",
    "\n",
    "plt.xlabel('Model')\n",
    "plt.ylabel('Accuracy')\n",
    "plt.title('Comparison of Model Accuracies')\n",
    "plt.ylim(0, 0.7)\n",
    "plt.xticks(rotation=15)\n",
    "plt.tight_layout()\n",
    "plt.savefig('model_accuracies.png')"
   ]
  },
  {
   "cell_type": "code",
   "execution_count": null,
   "id": "1c73b1dd",
   "metadata": {},
   "outputs": [],
   "source": []
  }
 ],
 "metadata": {
  "kernelspec": {
   "display_name": "Python (ML Env)",
   "language": "python",
   "name": "ml_env"
  },
  "language_info": {
   "codemirror_mode": {
    "name": "ipython",
    "version": 3
   },
   "file_extension": ".py",
   "mimetype": "text/x-python",
   "name": "python",
   "nbconvert_exporter": "python",
   "pygments_lexer": "ipython3",
   "version": "3.12.3"
  }
 },
 "nbformat": 4,
 "nbformat_minor": 5
}
